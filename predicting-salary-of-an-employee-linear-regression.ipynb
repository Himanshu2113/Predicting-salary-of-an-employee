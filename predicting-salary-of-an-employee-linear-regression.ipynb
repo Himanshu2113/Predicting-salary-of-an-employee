{
 "cells": [
  {
   "cell_type": "code",
   "execution_count": 1,
   "id": "10c20a41",
   "metadata": {
    "_cell_guid": "b1076dfc-b9ad-4769-8c92-a6c4dae69d19",
    "_uuid": "8f2839f25d086af736a60e9eeb907d3b93b6e0e5",
    "execution": {
     "iopub.execute_input": "2024-09-07T18:24:05.270907Z",
     "iopub.status.busy": "2024-09-07T18:24:05.269791Z",
     "iopub.status.idle": "2024-09-07T18:24:06.232962Z",
     "shell.execute_reply": "2024-09-07T18:24:06.231336Z"
    },
    "papermill": {
     "duration": 0.978012,
     "end_time": "2024-09-07T18:24:06.235683",
     "exception": false,
     "start_time": "2024-09-07T18:24:05.257671",
     "status": "completed"
    },
    "tags": []
   },
   "outputs": [
    {
     "name": "stdout",
     "output_type": "stream",
     "text": [
      "/kaggle/input/salary-dataset-simple-linear-regression/Salary_dataset.csv\n"
     ]
    }
   ],
   "source": [
    "# This Python 3 environment comes with many helpful analytics libraries installed\n",
    "# It is defined by the kaggle/python Docker image: https://github.com/kaggle/docker-python\n",
    "# For example, here's several helpful packages to load\n",
    "\n",
    "import numpy as np # linear algebra\n",
    "import pandas as pd # data processing, CSV file I/O (e.g. pd.read_csv)\n",
    "\n",
    "# Input data files are available in the read-only \"../input/\" directory\n",
    "# For example, running this (by clicking run or pressing Shift+Enter) will list all files under the input directory\n",
    "\n",
    "import os\n",
    "for dirname, _, filenames in os.walk('/kaggle/input'):\n",
    "    for filename in filenames:\n",
    "        print(os.path.join(dirname, filename))\n",
    "\n",
    "# You can write up to 20GB to the current directory (/kaggle/working/) that gets preserved as output when you create a version using \"Save & Run All\" \n",
    "# You can also write temporary files to /kaggle/temp/, but they won't be saved outside of the current session"
   ]
  },
  {
   "cell_type": "code",
   "execution_count": 2,
   "id": "4b8d9bf9",
   "metadata": {
    "execution": {
     "iopub.execute_input": "2024-09-07T18:24:06.258356Z",
     "iopub.status.busy": "2024-09-07T18:24:06.257859Z",
     "iopub.status.idle": "2024-09-07T18:24:06.303437Z",
     "shell.execute_reply": "2024-09-07T18:24:06.302343Z"
    },
    "papermill": {
     "duration": 0.059861,
     "end_time": "2024-09-07T18:24:06.306141",
     "exception": false,
     "start_time": "2024-09-07T18:24:06.246280",
     "status": "completed"
    },
    "tags": []
   },
   "outputs": [
    {
     "data": {
      "text/html": [
       "<div>\n",
       "<style scoped>\n",
       "    .dataframe tbody tr th:only-of-type {\n",
       "        vertical-align: middle;\n",
       "    }\n",
       "\n",
       "    .dataframe tbody tr th {\n",
       "        vertical-align: top;\n",
       "    }\n",
       "\n",
       "    .dataframe thead th {\n",
       "        text-align: right;\n",
       "    }\n",
       "</style>\n",
       "<table border=\"1\" class=\"dataframe\">\n",
       "  <thead>\n",
       "    <tr style=\"text-align: right;\">\n",
       "      <th></th>\n",
       "      <th>Unnamed: 0</th>\n",
       "      <th>YearsExperience</th>\n",
       "      <th>Salary</th>\n",
       "    </tr>\n",
       "  </thead>\n",
       "  <tbody>\n",
       "    <tr>\n",
       "      <th>3</th>\n",
       "      <td>3</td>\n",
       "      <td>2.1</td>\n",
       "      <td>43526.0</td>\n",
       "    </tr>\n",
       "    <tr>\n",
       "      <th>23</th>\n",
       "      <td>23</td>\n",
       "      <td>8.3</td>\n",
       "      <td>113813.0</td>\n",
       "    </tr>\n",
       "    <tr>\n",
       "      <th>20</th>\n",
       "      <td>20</td>\n",
       "      <td>6.9</td>\n",
       "      <td>91739.0</td>\n",
       "    </tr>\n",
       "    <tr>\n",
       "      <th>0</th>\n",
       "      <td>0</td>\n",
       "      <td>1.2</td>\n",
       "      <td>39344.0</td>\n",
       "    </tr>\n",
       "    <tr>\n",
       "      <th>19</th>\n",
       "      <td>19</td>\n",
       "      <td>6.1</td>\n",
       "      <td>93941.0</td>\n",
       "    </tr>\n",
       "  </tbody>\n",
       "</table>\n",
       "</div>"
      ],
      "text/plain": [
       "    Unnamed: 0  YearsExperience    Salary\n",
       "3            3              2.1   43526.0\n",
       "23          23              8.3  113813.0\n",
       "20          20              6.9   91739.0\n",
       "0            0              1.2   39344.0\n",
       "19          19              6.1   93941.0"
      ]
     },
     "execution_count": 2,
     "metadata": {},
     "output_type": "execute_result"
    }
   ],
   "source": [
    "df=pd.read_csv('/kaggle/input/salary-dataset-simple-linear-regression/Salary_dataset.csv')\n",
    "df.sample(5)"
   ]
  },
  {
   "cell_type": "code",
   "execution_count": 3,
   "id": "5e27c835",
   "metadata": {
    "execution": {
     "iopub.execute_input": "2024-09-07T18:24:06.329344Z",
     "iopub.status.busy": "2024-09-07T18:24:06.328931Z",
     "iopub.status.idle": "2024-09-07T18:24:06.334994Z",
     "shell.execute_reply": "2024-09-07T18:24:06.333909Z"
    },
    "papermill": {
     "duration": 0.020621,
     "end_time": "2024-09-07T18:24:06.337449",
     "exception": false,
     "start_time": "2024-09-07T18:24:06.316828",
     "status": "completed"
    },
    "tags": []
   },
   "outputs": [],
   "source": [
    "df.set_index('Unnamed: 0',inplace=True)"
   ]
  },
  {
   "cell_type": "code",
   "execution_count": 4,
   "id": "c5c8e647",
   "metadata": {
    "execution": {
     "iopub.execute_input": "2024-09-07T18:24:06.361326Z",
     "iopub.status.busy": "2024-09-07T18:24:06.360070Z",
     "iopub.status.idle": "2024-09-07T18:24:06.372540Z",
     "shell.execute_reply": "2024-09-07T18:24:06.371370Z"
    },
    "papermill": {
     "duration": 0.026847,
     "end_time": "2024-09-07T18:24:06.374985",
     "exception": false,
     "start_time": "2024-09-07T18:24:06.348138",
     "status": "completed"
    },
    "tags": []
   },
   "outputs": [
    {
     "data": {
      "text/html": [
       "<div>\n",
       "<style scoped>\n",
       "    .dataframe tbody tr th:only-of-type {\n",
       "        vertical-align: middle;\n",
       "    }\n",
       "\n",
       "    .dataframe tbody tr th {\n",
       "        vertical-align: top;\n",
       "    }\n",
       "\n",
       "    .dataframe thead th {\n",
       "        text-align: right;\n",
       "    }\n",
       "</style>\n",
       "<table border=\"1\" class=\"dataframe\">\n",
       "  <thead>\n",
       "    <tr style=\"text-align: right;\">\n",
       "      <th></th>\n",
       "      <th>YearsExperience</th>\n",
       "      <th>Salary</th>\n",
       "    </tr>\n",
       "    <tr>\n",
       "      <th>Unnamed: 0</th>\n",
       "      <th></th>\n",
       "      <th></th>\n",
       "    </tr>\n",
       "  </thead>\n",
       "  <tbody>\n",
       "    <tr>\n",
       "      <th>0</th>\n",
       "      <td>1.2</td>\n",
       "      <td>39344.0</td>\n",
       "    </tr>\n",
       "    <tr>\n",
       "      <th>1</th>\n",
       "      <td>1.4</td>\n",
       "      <td>46206.0</td>\n",
       "    </tr>\n",
       "    <tr>\n",
       "      <th>2</th>\n",
       "      <td>1.6</td>\n",
       "      <td>37732.0</td>\n",
       "    </tr>\n",
       "    <tr>\n",
       "      <th>3</th>\n",
       "      <td>2.1</td>\n",
       "      <td>43526.0</td>\n",
       "    </tr>\n",
       "    <tr>\n",
       "      <th>4</th>\n",
       "      <td>2.3</td>\n",
       "      <td>39892.0</td>\n",
       "    </tr>\n",
       "  </tbody>\n",
       "</table>\n",
       "</div>"
      ],
      "text/plain": [
       "            YearsExperience   Salary\n",
       "Unnamed: 0                          \n",
       "0                       1.2  39344.0\n",
       "1                       1.4  46206.0\n",
       "2                       1.6  37732.0\n",
       "3                       2.1  43526.0\n",
       "4                       2.3  39892.0"
      ]
     },
     "execution_count": 4,
     "metadata": {},
     "output_type": "execute_result"
    }
   ],
   "source": [
    "df.head()"
   ]
  },
  {
   "cell_type": "code",
   "execution_count": 5,
   "id": "ea07d2fb",
   "metadata": {
    "execution": {
     "iopub.execute_input": "2024-09-07T18:24:06.399289Z",
     "iopub.status.busy": "2024-09-07T18:24:06.398921Z",
     "iopub.status.idle": "2024-09-07T18:24:06.420328Z",
     "shell.execute_reply": "2024-09-07T18:24:06.419232Z"
    },
    "papermill": {
     "duration": 0.036236,
     "end_time": "2024-09-07T18:24:06.422635",
     "exception": false,
     "start_time": "2024-09-07T18:24:06.386399",
     "status": "completed"
    },
    "tags": []
   },
   "outputs": [
    {
     "data": {
      "text/html": [
       "<div>\n",
       "<style scoped>\n",
       "    .dataframe tbody tr th:only-of-type {\n",
       "        vertical-align: middle;\n",
       "    }\n",
       "\n",
       "    .dataframe tbody tr th {\n",
       "        vertical-align: top;\n",
       "    }\n",
       "\n",
       "    .dataframe thead th {\n",
       "        text-align: right;\n",
       "    }\n",
       "</style>\n",
       "<table border=\"1\" class=\"dataframe\">\n",
       "  <thead>\n",
       "    <tr style=\"text-align: right;\">\n",
       "      <th></th>\n",
       "      <th>YearsExperience</th>\n",
       "      <th>Salary</th>\n",
       "    </tr>\n",
       "  </thead>\n",
       "  <tbody>\n",
       "    <tr>\n",
       "      <th>count</th>\n",
       "      <td>30.000000</td>\n",
       "      <td>30.000000</td>\n",
       "    </tr>\n",
       "    <tr>\n",
       "      <th>mean</th>\n",
       "      <td>5.413333</td>\n",
       "      <td>76004.000000</td>\n",
       "    </tr>\n",
       "    <tr>\n",
       "      <th>std</th>\n",
       "      <td>2.837888</td>\n",
       "      <td>27414.429785</td>\n",
       "    </tr>\n",
       "    <tr>\n",
       "      <th>min</th>\n",
       "      <td>1.200000</td>\n",
       "      <td>37732.000000</td>\n",
       "    </tr>\n",
       "    <tr>\n",
       "      <th>25%</th>\n",
       "      <td>3.300000</td>\n",
       "      <td>56721.750000</td>\n",
       "    </tr>\n",
       "    <tr>\n",
       "      <th>50%</th>\n",
       "      <td>4.800000</td>\n",
       "      <td>65238.000000</td>\n",
       "    </tr>\n",
       "    <tr>\n",
       "      <th>75%</th>\n",
       "      <td>7.800000</td>\n",
       "      <td>100545.750000</td>\n",
       "    </tr>\n",
       "    <tr>\n",
       "      <th>max</th>\n",
       "      <td>10.600000</td>\n",
       "      <td>122392.000000</td>\n",
       "    </tr>\n",
       "  </tbody>\n",
       "</table>\n",
       "</div>"
      ],
      "text/plain": [
       "       YearsExperience         Salary\n",
       "count        30.000000      30.000000\n",
       "mean          5.413333   76004.000000\n",
       "std           2.837888   27414.429785\n",
       "min           1.200000   37732.000000\n",
       "25%           3.300000   56721.750000\n",
       "50%           4.800000   65238.000000\n",
       "75%           7.800000  100545.750000\n",
       "max          10.600000  122392.000000"
      ]
     },
     "execution_count": 5,
     "metadata": {},
     "output_type": "execute_result"
    }
   ],
   "source": [
    "df.describe()"
   ]
  },
  {
   "cell_type": "code",
   "execution_count": 6,
   "id": "542f8eb5",
   "metadata": {
    "execution": {
     "iopub.execute_input": "2024-09-07T18:24:06.447048Z",
     "iopub.status.busy": "2024-09-07T18:24:06.446637Z",
     "iopub.status.idle": "2024-09-07T18:24:06.453817Z",
     "shell.execute_reply": "2024-09-07T18:24:06.452668Z"
    },
    "papermill": {
     "duration": 0.022425,
     "end_time": "2024-09-07T18:24:06.456294",
     "exception": false,
     "start_time": "2024-09-07T18:24:06.433869",
     "status": "completed"
    },
    "tags": []
   },
   "outputs": [
    {
     "data": {
      "text/plain": [
       "(30, 2)"
      ]
     },
     "execution_count": 6,
     "metadata": {},
     "output_type": "execute_result"
    }
   ],
   "source": [
    "df.shape"
   ]
  },
  {
   "cell_type": "code",
   "execution_count": 7,
   "id": "a3293c92",
   "metadata": {
    "execution": {
     "iopub.execute_input": "2024-09-07T18:24:06.480279Z",
     "iopub.status.busy": "2024-09-07T18:24:06.479901Z",
     "iopub.status.idle": "2024-09-07T18:24:08.014972Z",
     "shell.execute_reply": "2024-09-07T18:24:08.013904Z"
    },
    "papermill": {
     "duration": 1.550541,
     "end_time": "2024-09-07T18:24:08.018005",
     "exception": false,
     "start_time": "2024-09-07T18:24:06.467464",
     "status": "completed"
    },
    "tags": []
   },
   "outputs": [],
   "source": [
    "import seaborn as sns\n",
    "import matplotlib.pyplot as plt"
   ]
  },
  {
   "cell_type": "code",
   "execution_count": 8,
   "id": "cbf1bea8",
   "metadata": {
    "execution": {
     "iopub.execute_input": "2024-09-07T18:24:08.043717Z",
     "iopub.status.busy": "2024-09-07T18:24:08.042714Z",
     "iopub.status.idle": "2024-09-07T18:24:08.048726Z",
     "shell.execute_reply": "2024-09-07T18:24:08.047655Z"
    },
    "papermill": {
     "duration": 0.020744,
     "end_time": "2024-09-07T18:24:08.050973",
     "exception": false,
     "start_time": "2024-09-07T18:24:08.030229",
     "status": "completed"
    },
    "tags": []
   },
   "outputs": [],
   "source": [
    "x=df['YearsExperience']\n",
    "y=df['Salary']\n",
    "x=x.to_numpy()\n",
    "x=x.reshape(-1,1)"
   ]
  },
  {
   "cell_type": "code",
   "execution_count": 9,
   "id": "c8276c65",
   "metadata": {
    "execution": {
     "iopub.execute_input": "2024-09-07T18:24:08.075210Z",
     "iopub.status.busy": "2024-09-07T18:24:08.074789Z",
     "iopub.status.idle": "2024-09-07T18:24:08.315030Z",
     "shell.execute_reply": "2024-09-07T18:24:08.313898Z"
    },
    "papermill": {
     "duration": 0.255296,
     "end_time": "2024-09-07T18:24:08.317562",
     "exception": false,
     "start_time": "2024-09-07T18:24:08.062266",
     "status": "completed"
    },
    "tags": []
   },
   "outputs": [
    {
     "data": {
      "text/plain": [
       "<matplotlib.collections.PathCollection at 0x7d676a570580>"
      ]
     },
     "execution_count": 9,
     "metadata": {},
     "output_type": "execute_result"
    },
    {
     "data": {
      "image/png": "[encoded data removed]",
      "text/plain": [
       "<Figure size 640x480 with 1 Axes>"
      ]
     },
     "metadata": {},
     "output_type": "display_data"
    }
   ],
   "source": [
    "plt.scatter(x,y)"
   ]
  },
  {
   "cell_type": "code",
   "execution_count": 10,
   "id": "48cda730",
   "metadata": {
    "execution": {
     "iopub.execute_input": "2024-09-07T18:24:08.343228Z",
     "iopub.status.busy": "2024-09-07T18:24:08.342802Z",
     "iopub.status.idle": "2024-09-07T18:24:08.732561Z",
     "shell.execute_reply": "2024-09-07T18:24:08.731367Z"
    },
    "papermill": {
     "duration": 0.405923,
     "end_time": "2024-09-07T18:24:08.735499",
     "exception": false,
     "start_time": "2024-09-07T18:24:08.329576",
     "status": "completed"
    },
    "tags": []
   },
   "outputs": [],
   "source": [
    "from sklearn.metrics import mean_squared_error, r2_score\n",
    "from sklearn.model_selection import train_test_split\n",
    "x_train,x_test,y_train,y_test=train_test_split(x,y,test_size=0.2,random_state=42)\n",
    "# y_train.shape"
   ]
  },
  {
   "cell_type": "code",
   "execution_count": 11,
   "id": "fd1fdbc3",
   "metadata": {
    "execution": {
     "iopub.execute_input": "2024-09-07T18:24:08.761590Z",
     "iopub.status.busy": "2024-09-07T18:24:08.761156Z",
     "iopub.status.idle": "2024-09-07T18:24:08.876824Z",
     "shell.execute_reply": "2024-09-07T18:24:08.875444Z"
    },
    "papermill": {
     "duration": 0.13176,
     "end_time": "2024-09-07T18:24:08.879736",
     "exception": false,
     "start_time": "2024-09-07T18:24:08.747976",
     "status": "completed"
    },
    "tags": []
   },
   "outputs": [],
   "source": [
    "from sklearn.linear_model import LinearRegression"
   ]
  },
  {
   "cell_type": "code",
   "execution_count": 12,
   "id": "256b3d32",
   "metadata": {
    "execution": {
     "iopub.execute_input": "2024-09-07T18:24:08.905367Z",
     "iopub.status.busy": "2024-09-07T18:24:08.904977Z",
     "iopub.status.idle": "2024-09-07T18:24:08.910266Z",
     "shell.execute_reply": "2024-09-07T18:24:08.909072Z"
    },
    "papermill": {
     "duration": 0.021204,
     "end_time": "2024-09-07T18:24:08.912707",
     "exception": false,
     "start_time": "2024-09-07T18:24:08.891503",
     "status": "completed"
    },
    "tags": []
   },
   "outputs": [],
   "source": [
    "lr=LinearRegression()"
   ]
  },
  {
   "cell_type": "code",
   "execution_count": 13,
   "id": "92acda06",
   "metadata": {
    "execution": {
     "iopub.execute_input": "2024-09-07T18:24:08.937929Z",
     "iopub.status.busy": "2024-09-07T18:24:08.937505Z",
     "iopub.status.idle": "2024-09-07T18:24:08.961881Z",
     "shell.execute_reply": "2024-09-07T18:24:08.960623Z"
    },
    "papermill": {
     "duration": 0.040159,
     "end_time": "2024-09-07T18:24:08.964446",
     "exception": false,
     "start_time": "2024-09-07T18:24:08.924287",
     "status": "completed"
    },
    "tags": []
   },
   "outputs": [
    {
     "data": {
      "text/html": [
       "<style>#sk-container-id-1 {color: black;background-color: white;}#sk-container-id-1 pre{padding: 0;}#sk-container-id-1 div.sk-toggleable {background-color: white;}#sk-container-id-1 label.sk-toggleable__label {cursor: pointer;display: block;width: 100%;margin-bottom: 0;padding: 0.3em;box-sizing: border-box;text-align: center;}#sk-container-id-1 label.sk-toggleable__label-arrow:before {content: \"▸\";float: left;margin-right: 0.25em;color: #696969;}#sk-container-id-1 label.sk-toggleable__label-arrow:hover:before {color: black;}#sk-container-id-1 div.sk-estimator:hover label.sk-toggleable__label-arrow:before {color: black;}#sk-container-id-1 div.sk-toggleable__content {max-height: 0;max-width: 0;overflow: hidden;text-align: left;background-color: #f0f8ff;}#sk-container-id-1 div.sk-toggleable__content pre {margin: 0.2em;color: black;border-radius: 0.25em;background-color: #f0f8ff;}#sk-container-id-1 input.sk-toggleable__control:checked~div.sk-toggleable__content {max-height: 200px;max-width: 100%;overflow: auto;}#sk-container-id-1 input.sk-toggleable__control:checked~label.sk-toggleable__label-arrow:before {content: \"▾\";}#sk-container-id-1 div.sk-estimator input.sk-toggleable__control:checked~label.sk-toggleable__label {background-color: #d4ebff;}#sk-container-id-1 div.sk-label input.sk-toggleable__control:checked~label.sk-toggleable__label {background-color: #d4ebff;}#sk-container-id-1 input.sk-hidden--visually {border: 0;clip: rect(1px 1px 1px 1px);clip: rect(1px, 1px, 1px, 1px);height: 1px;margin: -1px;overflow: hidden;padding: 0;position: absolute;width: 1px;}#sk-container-id-1 div.sk-estimator {font-family: monospace;background-color: #f0f8ff;border: 1px dotted black;border-radius: 0.25em;box-sizing: border-box;margin-bottom: 0.5em;}#sk-container-id-1 div.sk-estimator:hover {background-color: #d4ebff;}#sk-container-id-1 div.sk-parallel-item::after {content: \"\";width: 100%;border-bottom: 1px solid gray;flex-grow: 1;}#sk-container-id-1 div.sk-label:hover label.sk-toggleable__label {background-color: #d4ebff;}#sk-container-id-1 div.sk-serial::before {content: \"\";position: absolute;border-left: 1px solid gray;box-sizing: border-box;top: 0;bottom: 0;left: 50%;z-index: 0;}#sk-container-id-1 div.sk-serial {display: flex;flex-direction: column;align-items: center;background-color: white;padding-right: 0.2em;padding-left: 0.2em;position: relative;}#sk-container-id-1 div.sk-item {position: relative;z-index: 1;}#sk-container-id-1 div.sk-parallel {display: flex;align-items: stretch;justify-content: center;background-color: white;position: relative;}#sk-container-id-1 div.sk-item::before, #sk-container-id-1 div.sk-parallel-item::before {content: \"\";position: absolute;border-left: 1px solid gray;box-sizing: border-box;top: 0;bottom: 0;left: 50%;z-index: -1;}#sk-container-id-1 div.sk-parallel-item {display: flex;flex-direction: column;z-index: 1;position: relative;background-color: white;}#sk-container-id-1 div.sk-parallel-item:first-child::after {align-self: flex-end;width: 50%;}#sk-container-id-1 div.sk-parallel-item:last-child::after {align-self: flex-start;width: 50%;}#sk-container-id-1 div.sk-parallel-item:only-child::after {width: 0;}#sk-container-id-1 div.sk-dashed-wrapped {border: 1px dashed gray;margin: 0 0.4em 0.5em 0.4em;box-sizing: border-box;padding-bottom: 0.4em;background-color: white;}#sk-container-id-1 div.sk-label label {font-family: monospace;font-weight: bold;display: inline-block;line-height: 1.2em;}#sk-container-id-1 div.sk-label-container {text-align: center;}#sk-container-id-1 div.sk-container {/* jupyter's `normalize.less` sets `[hidden] { display: none; }` but bootstrap.min.css set `[hidden] { display: none !important; }` so we also need the `!important` here to be able to override the default hidden behavior on the sphinx rendered scikit-learn.org. See: https://github.com/scikit-learn/scikit-learn/issues/21755 */display: inline-block !important;position: relative;}#sk-container-id-1 div.sk-text-repr-fallback {display: none;}</style><div id=\"sk-container-id-1\" class=\"sk-top-container\"><div class=\"sk-text-repr-fallback\"><pre>LinearRegression()</pre><b>In a Jupyter environment, please rerun this cell to show the HTML representation or trust the notebook. <br />On GitHub, the HTML representation is unable to render, please try loading this page with nbviewer.org.</b></div><div class=\"sk-container\" hidden><div class=\"sk-item\"><div class=\"sk-estimator sk-toggleable\"><input class=\"sk-toggleable__control sk-hidden--visually\" id=\"sk-estimator-id-1\" type=\"checkbox\" checked><label for=\"sk-estimator-id-1\" class=\"sk-toggleable__label sk-toggleable__label-arrow\">LinearRegression</label><div class=\"sk-toggleable__content\"><pre>LinearRegression()</pre></div></div></div></div></div>"
      ],
      "text/plain": [
       "LinearRegression()"
      ]
     },
     "execution_count": 13,
     "metadata": {},
     "output_type": "execute_result"
    }
   ],
   "source": [
    "lr.fit(x_train,y_train)"
   ]
  },
  {
   "cell_type": "code",
   "execution_count": 14,
   "id": "cc723484",
   "metadata": {
    "execution": {
     "iopub.execute_input": "2024-09-07T18:24:08.990946Z",
     "iopub.status.busy": "2024-09-07T18:24:08.990420Z",
     "iopub.status.idle": "2024-09-07T18:24:08.996063Z",
     "shell.execute_reply": "2024-09-07T18:24:08.994889Z"
    },
    "papermill": {
     "duration": 0.021344,
     "end_time": "2024-09-07T18:24:08.998401",
     "exception": false,
     "start_time": "2024-09-07T18:24:08.977057",
     "status": "completed"
    },
    "tags": []
   },
   "outputs": [],
   "source": [
    "y_pred=lr.predict(x_test)"
   ]
  },
  {
   "cell_type": "code",
   "execution_count": 15,
   "id": "d1e7dd18",
   "metadata": {
    "execution": {
     "iopub.execute_input": "2024-09-07T18:24:09.024505Z",
     "iopub.status.busy": "2024-09-07T18:24:09.023688Z",
     "iopub.status.idle": "2024-09-07T18:24:09.030382Z",
     "shell.execute_reply": "2024-09-07T18:24:09.029307Z"
    },
    "papermill": {
     "duration": 0.022472,
     "end_time": "2024-09-07T18:24:09.032865",
     "exception": false,
     "start_time": "2024-09-07T18:24:09.010393",
     "status": "completed"
    },
    "tags": []
   },
   "outputs": [
    {
     "name": "stdout",
     "output_type": "stream",
     "text": [
      "0.9024461774180497\n"
     ]
    }
   ],
   "source": [
    "print(r2_score(y_test,y_pred))"
   ]
  },
  {
   "cell_type": "code",
   "execution_count": 16,
   "id": "437aa0c3",
   "metadata": {
    "execution": {
     "iopub.execute_input": "2024-09-07T18:24:09.059228Z",
     "iopub.status.busy": "2024-09-07T18:24:09.058825Z",
     "iopub.status.idle": "2024-09-07T18:24:09.421948Z",
     "shell.execute_reply": "2024-09-07T18:24:09.420898Z"
    },
    "papermill": {
     "duration": 0.379049,
     "end_time": "2024-09-07T18:24:09.424633",
     "exception": false,
     "start_time": "2024-09-07T18:24:09.045584",
     "status": "completed"
    },
    "tags": []
   },
   "outputs": [
    {
     "data": {
      "text/plain": [
       "<matplotlib.legend.Legend at 0x7d6766fc94e0>"
      ]
     },
     "execution_count": 16,
     "metadata": {},
     "output_type": "execute_result"
    },
    {
     "data": {
      "image/png": "[encoded data removed]",
      "text/plain": [
       "<Figure size 640x480 with 1 Axes>"
      ]
     },
     "metadata": {},
     "output_type": "display_data"
    }
   ],
   "source": [
    "plt.scatter(x_test,y_test,color='red',label='Actual data')\n",
    "plt.plot(x_test,y_pred,color='blue',label='Regression line')\n",
    "plt.legend()"
   ]
  },
  {
   "cell_type": "code",
   "execution_count": 17,
   "id": "fdaa9c54",
   "metadata": {
    "execution": {
     "iopub.execute_input": "2024-09-07T18:24:09.451740Z",
     "iopub.status.busy": "2024-09-07T18:24:09.451339Z",
     "iopub.status.idle": "2024-09-07T18:24:09.457276Z",
     "shell.execute_reply": "2024-09-07T18:24:09.456179Z"
    },
    "papermill": {
     "duration": 0.022162,
     "end_time": "2024-09-07T18:24:09.459659",
     "exception": false,
     "start_time": "2024-09-07T18:24:09.437497",
     "status": "completed"
    },
    "tags": []
   },
   "outputs": [
    {
     "name": "stdout",
     "output_type": "stream",
     "text": [
      "[9423.81532303] 24380.201479473704\n"
     ]
    }
   ],
   "source": [
    "print(lr.coef_,lr.intercept_)"
   ]
  },
  {
   "cell_type": "markdown",
   "id": "6080cfa9",
   "metadata": {
    "papermill": {
     "duration": 0.01259,
     "end_time": "2024-09-07T18:24:09.485054",
     "exception": false,
     "start_time": "2024-09-07T18:24:09.472464",
     "status": "completed"
    },
    "tags": []
   },
   "source": [
    "# Using gradient descent"
   ]
  },
  {
   "cell_type": "markdown",
   "id": "942e7e69",
   "metadata": {
    "papermill": {
     "duration": 0.012414,
     "end_time": "2024-09-07T18:24:09.509982",
     "exception": false,
     "start_time": "2024-09-07T18:24:09.497568",
     "status": "completed"
    },
    "tags": []
   },
   "source": []
  },
  {
   "cell_type": "markdown",
   "id": "5d02886b",
   "metadata": {
    "papermill": {
     "duration": 0.012408,
     "end_time": "2024-09-07T18:24:09.535285",
     "exception": false,
     "start_time": "2024-09-07T18:24:09.522877",
     "status": "completed"
    },
    "tags": []
   },
   "source": []
  },
  {
   "cell_type": "code",
   "execution_count": 18,
   "id": "1c435a43",
   "metadata": {
    "execution": {
     "iopub.execute_input": "2024-09-07T18:24:09.562630Z",
     "iopub.status.busy": "2024-09-07T18:24:09.562222Z",
     "iopub.status.idle": "2024-09-07T18:24:09.571883Z",
     "shell.execute_reply": "2024-09-07T18:24:09.570700Z"
    },
    "papermill": {
     "duration": 0.026295,
     "end_time": "2024-09-07T18:24:09.574341",
     "exception": false,
     "start_time": "2024-09-07T18:24:09.548046",
     "status": "completed"
    },
    "tags": []
   },
   "outputs": [],
   "source": [
    "class MeraRegression:\n",
    "    \n",
    "    def __init__(self, learning_rate=0.01, epochs=350):\n",
    "        \n",
    "        self.m=1\n",
    "        self.b=0\n",
    "        self.learning_rate=learning_rate\n",
    "        self.epochs=epochs\n",
    "    \n",
    "    def fit(self, x_train, y_train):\n",
    "        \n",
    "        for i in range(self.epochs):\n",
    "            \n",
    "            y_bar=self.m * x_train + self.b\n",
    "        \n",
    "            b_slope= -2 * np.sum(y_train - y_bar)\n",
    "            \n",
    "            m_slope= -2 * np.dot((y_train - y_bar),x_train)\n",
    "        \n",
    "            self.m=self.m - (self.learning_rate * m_slope)\n",
    "        \n",
    "            self.b=self.b - (self.learning_rate * b_slope)\n",
    "        \n",
    "        return self.m,self.b\n",
    "    \n",
    "    def predict(self, x_test):\n",
    "        \n",
    "        return self.m * x_test + self.b"
   ]
  },
  {
   "cell_type": "code",
   "execution_count": 19,
   "id": "6982f8d6",
   "metadata": {
    "execution": {
     "iopub.execute_input": "2024-09-07T18:24:09.601759Z",
     "iopub.status.busy": "2024-09-07T18:24:09.601351Z",
     "iopub.status.idle": "2024-09-07T18:24:09.606536Z",
     "shell.execute_reply": "2024-09-07T18:24:09.605409Z"
    },
    "papermill": {
     "duration": 0.021906,
     "end_time": "2024-09-07T18:24:09.609097",
     "exception": false,
     "start_time": "2024-09-07T18:24:09.587191",
     "status": "completed"
    },
    "tags": []
   },
   "outputs": [],
   "source": [
    "mr=MeraRegression(learning_rate=0.001,epochs=350)"
   ]
  },
  {
   "cell_type": "code",
   "execution_count": 20,
   "id": "22212a66",
   "metadata": {
    "execution": {
     "iopub.execute_input": "2024-09-07T18:24:09.636538Z",
     "iopub.status.busy": "2024-09-07T18:24:09.636166Z",
     "iopub.status.idle": "2024-09-07T18:24:09.761039Z",
     "shell.execute_reply": "2024-09-07T18:24:09.759856Z"
    },
    "papermill": {
     "duration": 0.141496,
     "end_time": "2024-09-07T18:24:09.763606",
     "exception": false,
     "start_time": "2024-09-07T18:24:09.622110",
     "status": "completed"
    },
    "tags": []
   },
   "outputs": [
    {
     "data": {
      "text/plain": [
       "(9498.754724196844, 23869.48530424547)"
      ]
     },
     "execution_count": 20,
     "metadata": {},
     "output_type": "execute_result"
    }
   ],
   "source": [
    "mr.fit(x_train.flatten(), y_train)"
   ]
  },
  {
   "cell_type": "code",
   "execution_count": 21,
   "id": "c61c1bf4",
   "metadata": {
    "execution": {
     "iopub.execute_input": "2024-09-07T18:24:09.791378Z",
     "iopub.status.busy": "2024-09-07T18:24:09.790972Z",
     "iopub.status.idle": "2024-09-07T18:24:09.796264Z",
     "shell.execute_reply": "2024-09-07T18:24:09.795145Z"
    },
    "papermill": {
     "duration": 0.021939,
     "end_time": "2024-09-07T18:24:09.798704",
     "exception": false,
     "start_time": "2024-09-07T18:24:09.776765",
     "status": "completed"
    },
    "tags": []
   },
   "outputs": [],
   "source": [
    "y_pred1=mr.predict(x_test.flatten())"
   ]
  },
  {
   "cell_type": "code",
   "execution_count": 22,
   "id": "e0a35629",
   "metadata": {
    "execution": {
     "iopub.execute_input": "2024-09-07T18:24:09.826629Z",
     "iopub.status.busy": "2024-09-07T18:24:09.826093Z",
     "iopub.status.idle": "2024-09-07T18:24:09.834814Z",
     "shell.execute_reply": "2024-09-07T18:24:09.833698Z"
    },
    "papermill": {
     "duration": 0.025738,
     "end_time": "2024-09-07T18:24:09.837468",
     "exception": false,
     "start_time": "2024-09-07T18:24:09.811730",
     "status": "completed"
    },
    "tags": []
   },
   "outputs": [
    {
     "data": {
      "text/plain": [
       "0.9014230070746747"
      ]
     },
     "execution_count": 22,
     "metadata": {},
     "output_type": "execute_result"
    }
   ],
   "source": [
    "r2_score(y_test,y_pred1)"
   ]
  },
  {
   "cell_type": "code",
   "execution_count": 23,
   "id": "5425d070",
   "metadata": {
    "execution": {
     "iopub.execute_input": "2024-09-07T18:24:09.866498Z",
     "iopub.status.busy": "2024-09-07T18:24:09.866081Z",
     "iopub.status.idle": "2024-09-07T18:24:09.874466Z",
     "shell.execute_reply": "2024-09-07T18:24:09.873306Z"
    },
    "papermill": {
     "duration": 0.025641,
     "end_time": "2024-09-07T18:24:09.877178",
     "exception": false,
     "start_time": "2024-09-07T18:24:09.851537",
     "status": "completed"
    },
    "tags": []
   },
   "outputs": [
    {
     "data": {
      "text/plain": [
       "0.9024461774180497"
      ]
     },
     "execution_count": 23,
     "metadata": {},
     "output_type": "execute_result"
    }
   ],
   "source": [
    "r2_score(y_test,y_pred)"
   ]
  },
  {
   "cell_type": "code",
   "execution_count": 24,
   "id": "029a72ae",
   "metadata": {
    "execution": {
     "iopub.execute_input": "2024-09-07T18:24:09.906456Z",
     "iopub.status.busy": "2024-09-07T18:24:09.905705Z",
     "iopub.status.idle": "2024-09-07T18:24:09.913388Z",
     "shell.execute_reply": "2024-09-07T18:24:09.912337Z"
    },
    "papermill": {
     "duration": 0.025466,
     "end_time": "2024-09-07T18:24:09.915926",
     "exception": false,
     "start_time": "2024-09-07T18:24:09.890460",
     "status": "completed"
    },
    "tags": []
   },
   "outputs": [
    {
     "data": {
      "text/plain": [
       "array([116007.40612895,  71363.25892523, 102709.14951508,  75162.76081491,\n",
       "        55215.3758941 ,  59964.75325619])"
      ]
     },
     "execution_count": 24,
     "metadata": {},
     "output_type": "execute_result"
    }
   ],
   "source": [
    "y_pred1"
   ]
  },
  {
   "cell_type": "code",
   "execution_count": 25,
   "id": "530f58b2",
   "metadata": {
    "execution": {
     "iopub.execute_input": "2024-09-07T18:24:09.944626Z",
     "iopub.status.busy": "2024-09-07T18:24:09.944184Z",
     "iopub.status.idle": "2024-09-07T18:24:09.951386Z",
     "shell.execute_reply": "2024-09-07T18:24:09.950317Z"
    },
    "papermill": {
     "duration": 0.024413,
     "end_time": "2024-09-07T18:24:09.953759",
     "exception": false,
     "start_time": "2024-09-07T18:24:09.929346",
     "status": "completed"
    },
    "tags": []
   },
   "outputs": [
    {
     "data": {
      "text/plain": [
       "array([115791.21011287,  71499.27809463, 102597.86866063,  75268.80422384,\n",
       "        55478.79204548,  60190.69970699])"
      ]
     },
     "execution_count": 25,
     "metadata": {},
     "output_type": "execute_result"
    }
   ],
   "source": [
    "y_pred"
   ]
  },
  {
   "cell_type": "code",
   "execution_count": 26,
   "id": "afacdf9b",
   "metadata": {
    "execution": {
     "iopub.execute_input": "2024-09-07T18:24:09.982489Z",
     "iopub.status.busy": "2024-09-07T18:24:09.982072Z",
     "iopub.status.idle": "2024-09-07T18:24:10.054717Z",
     "shell.execute_reply": "2024-09-07T18:24:10.053268Z"
    },
    "papermill": {
     "duration": 0.090069,
     "end_time": "2024-09-07T18:24:10.057433",
     "exception": false,
     "start_time": "2024-09-07T18:24:09.967364",
     "status": "completed"
    },
    "tags": []
   },
   "outputs": [
    {
     "name": "stdout",
     "output_type": "stream",
     "text": [
      "Best alpha: {'alpha': 1}\n"
     ]
    }
   ],
   "source": [
    "from sklearn.linear_model import Ridge\n",
    "from sklearn.model_selection import GridSearchCV\n",
    "\n",
    "# Define Ridge model\n",
    "ridge = Ridge()\n",
    "\n",
    "# Define parameter grid\n",
    "param_grid = {'alpha': [0.01, 0.1, 1, 10, 100]}\n",
    "\n",
    "# Perform grid search\n",
    "grid_search = GridSearchCV(estimator=ridge, param_grid=param_grid, scoring='neg_mean_squared_error', cv=5)\n",
    "grid_search.fit(x_train, y_train)\n",
    "\n",
    "# Best alpha\n",
    "print(f\"Best alpha: {grid_search.best_params_}\")"
   ]
  },
  {
   "cell_type": "code",
   "execution_count": 27,
   "id": "869bf157",
   "metadata": {
    "execution": {
     "iopub.execute_input": "2024-09-07T18:24:10.086487Z",
     "iopub.status.busy": "2024-09-07T18:24:10.086093Z",
     "iopub.status.idle": "2024-09-07T18:24:10.096389Z",
     "shell.execute_reply": "2024-09-07T18:24:10.095169Z"
    },
    "papermill": {
     "duration": 0.027868,
     "end_time": "2024-09-07T18:24:10.099010",
     "exception": false,
     "start_time": "2024-09-07T18:24:10.071142",
     "status": "completed"
    },
    "tags": []
   },
   "outputs": [
    {
     "name": "stdout",
     "output_type": "stream",
     "text": [
      "Mean Squared Error: 49974852.71999642\n"
     ]
    }
   ],
   "source": [
    "ridge_reg = Ridge(alpha=1.0)  # You can adjust alpha as needed\n",
    "\n",
    "# Fit the model on the training data\n",
    "ridge_reg.fit(x_train, y_train)\n",
    "\n",
    "y_pred2 = ridge_reg.predict(x_test)\n",
    "\n",
    "# Evaluate the model (using mean squared error)\n",
    "mse = mean_squared_error(y_test, y_pred2)\n",
    "print(f\"Mean Squared Error: {mse}\")"
   ]
  },
  {
   "cell_type": "code",
   "execution_count": 28,
   "id": "eedd61bd",
   "metadata": {
    "execution": {
     "iopub.execute_input": "2024-09-07T18:24:10.128356Z",
     "iopub.status.busy": "2024-09-07T18:24:10.127965Z",
     "iopub.status.idle": "2024-09-07T18:24:10.136415Z",
     "shell.execute_reply": "2024-09-07T18:24:10.135101Z"
    },
    "papermill": {
     "duration": 0.026232,
     "end_time": "2024-09-07T18:24:10.139052",
     "exception": false,
     "start_time": "2024-09-07T18:24:10.112820",
     "status": "completed"
    },
    "tags": []
   },
   "outputs": [
    {
     "data": {
      "text/plain": [
       "0.9021627846740264"
      ]
     },
     "execution_count": 28,
     "metadata": {},
     "output_type": "execute_result"
    }
   ],
   "source": [
    "r2_score(y_test,y_pred2)"
   ]
  },
  {
   "cell_type": "code",
   "execution_count": null,
   "id": "eb145d92",
   "metadata": {
    "papermill": {
     "duration": 0.013631,
     "end_time": "2024-09-07T18:24:10.167063",
     "exception": false,
     "start_time": "2024-09-07T18:24:10.153432",
     "status": "completed"
    },
    "tags": []
   },
   "outputs": [],
   "source": []
  }
 ],
 "metadata": {
  "kaggle": {
   "accelerator": "none",
   "dataSources": [
    {
     "datasetId": 2799910,
     "sourceId": 4832081,
     "sourceType": "datasetVersion"
    }
   ],
   "dockerImageVersionId": 30746,
   "isGpuEnabled": false,
   "isInternetEnabled": false,
   "language": "python",
   "sourceType": "notebook"
  },
  "kernelspec": {
   "display_name": "Python 3",
   "language": "python",
   "name": "python3"
  },
  "language_info": {
   "codemirror_mode": {
    "name": "ipython",
    "version": 3
   },
   "file_extension": ".py",
   "mimetype": "text/x-python",
   "name": "python",
   "nbconvert_exporter": "python",
   "pygments_lexer": "ipython3",
   "version": "3.10.13"
  },
  "papermill": {
   "default_parameters": {},
   "duration": 9.035565,
   "end_time": "2024-09-07T18:24:10.802921",
   "environment_variables": {},
   "exception": null,
   "input_path": "__notebook__.ipynb",
   "output_path": "__notebook__.ipynb",
   "parameters": {},
   "start_time": "2024-09-07T18:24:01.767356",
   "version": "2.5.0"
  }
 },
 "nbformat": 4,
 "nbformat_minor": 5
}
